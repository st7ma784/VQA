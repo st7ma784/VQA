{
 "cells": [
  {
   "cell_type": "code",
   "execution_count": 2,
   "metadata": {},
   "outputs": [
    {
     "name": "stdout",
     "output_type": "stream",
     "text": [
      "CUDA version: 11.0\n",
      "\u001b[33mWARNING: The directory '/root/.cache/pip' or its parent directory is not owned or is not writable by the current user. The cache has been disabled. Check the permissions and owner of that directory. If executing pip with sudo, you may want sudo's -H flag.\u001b[0m\n",
      "Looking in links: https://download.pytorch.org/whl/torch_stable.html\n",
      "Requirement already satisfied: torch==1.7.1+cu110 in /opt/conda/lib/python3.7/site-packages (1.7.1+cu110)\n",
      "Requirement already satisfied: torchvision==0.8.2+cu110 in /opt/conda/lib/python3.7/site-packages (0.8.2+cu110)\n",
      "Requirement already satisfied: ftfy in /opt/conda/lib/python3.7/site-packages (5.9)\n",
      "Requirement already satisfied: regex in /opt/conda/lib/python3.7/site-packages (2020.11.13)\n",
      "Requirement already satisfied: numpy in /opt/conda/lib/python3.7/site-packages (from torch==1.7.1+cu110) (1.20.1)\n",
      "Requirement already satisfied: typing-extensions in /opt/conda/lib/python3.7/site-packages (from torch==1.7.1+cu110) (3.7.4.3)\n",
      "Requirement already satisfied: pillow>=4.1.1 in /opt/conda/lib/python3.7/site-packages (from torchvision==0.8.2+cu110) (8.1.1)\n",
      "Requirement already satisfied: wcwidth in /opt/conda/lib/python3.7/site-packages (from ftfy) (0.2.5)\n",
      "Torch version: 1.7.1+cu110\n",
      "Model parameters: 151,277,313\n",
      "Input resolution: 224\n",
      "Context length: 77\n",
      "Vocab size: 49408\n"
     ]
    }
   ],
   "source": [
    "import subprocess\n",
    "\n",
    "CUDA_version = [s for s in subprocess.check_output([\"nvcc\", \"--version\"]).decode(\"UTF-8\").split(\", \") if s.startswith(\"release\")][0].split(\" \")[-1]\n",
    "print(\"CUDA version:\", CUDA_version)\n",
    "\n",
    "if CUDA_version == \"10.0\":\n",
    "    torch_version_suffix = \"+cu100\"\n",
    "elif CUDA_version == \"10.1\":\n",
    "    torch_version_suffix = \"+cu101\"\n",
    "elif CUDA_version == \"10.2\":\n",
    "    torch_version_suffix = \"\"\n",
    "else:\n",
    "    torch_version_suffix = \"+cu110\"\n",
    "!pip install torch==1.7.1{torch_version_suffix} torchvision==0.8.2{torch_version_suffix} -f https://download.pytorch.org/whl/torch_stable.html ftfy regex\n",
    "import numpy as np\n",
    "import torch\n",
    "import sys\n",
    "import torch.nn.functional as F\n",
    "sys.path.append(\"CLIP\")\n",
    "\n",
    "import clip\n",
    "from simple_tokenizer import SimpleTokenizer\n",
    "print(\"Torch version:\", torch.__version__)\n",
    "\n",
    "MODELS = {\n",
    "    \"ViT-B/32\":       \"https://openaipublic.azureedge.net/clip/models/40d365715913c9da98579312b702a82c18be219cc2a73407c4526f58eba950af/ViT-B-32.pt\",\n",
    "}\n",
    "#! wget {MODELS[\"ViT-B/32\"]} -O model.pt\n",
    "\n",
    "model = torch.jit.load(\"model.pt\").cuda().eval()\n",
    "input_resolution = model.input_resolution.item()\n",
    "context_length = model.context_length.item()\n",
    "vocab_size = model.vocab_size.item()\n",
    "\n",
    "print(\"Model parameters:\", f\"{np.sum([int(np.prod(p.shape)) for p in model.parameters()]):,}\")\n",
    "print(\"Input resolution:\", input_resolution)\n",
    "print(\"Context length:\", context_length)\n",
    "print(\"Vocab size:\", vocab_size)"
   ]
  },
  {
   "cell_type": "code",
   "execution_count": 37,
   "metadata": {},
   "outputs": [
    {
     "name": "stdout",
     "output_type": "stream",
     "text": [
      "torch.Size([5, 512])\n",
      "torch.Size([512])\n",
      "torch.Size([5, 512])\n",
      "torch.Size([512])\n",
      "torch.Size([6, 512])\n",
      "torch.Size([512])\n"
     ]
    }
   ],
   "source": [
    "import numpy as np\n",
    "male=[\"man\",\"male\",\"masculine\",\"men\",\"transman\"]\n",
    "female=[\"woman\",\"women\",\"feminine\",\"female\",\"transwoman\"]\n",
    "other=[\"non-gendered\",\"asexual\",\"non-binary\",\"transgender\"]\n",
    "random=[\"Test\",\"watermelon\",\"disconnected\",\"text\",\"random\",\"words\"]\n",
    "tokenizer = SimpleTokenizer()\n",
    "sot_token = tokenizer.encoder['<|startoftext|>']\n",
    "eot_token = tokenizer.encoder['<|endoftext|>']\n",
    "outputs=torch.zeros(3,  512, dtype=torch.float)\n",
    "with torch.no_grad():\n",
    "    for j,texts in enumerate(list([male,female,random])):\n",
    "        e=torch.nn.EmbeddingBag(len(texts), 512,mode='mean').to('cuda',non_blocking=True)\n",
    "\n",
    "        text_tokens = [tokenizer.encode(\"This is a \" + desc) for desc in texts]\n",
    "        text_input = torch.zeros(len(texts),  77, dtype=torch.long)\n",
    "\n",
    "        for i, tokens in enumerate(text_tokens):\n",
    "            tokens = [sot_token] + tokens + [eot_token]\n",
    "            text_input[i, :len(tokens)] = torch.tensor(tokens)\n",
    "        text_input = text_input.long().cuda()\n",
    "        text_features= model.encode_text(text_input).float()\n",
    "        text_features /= text_features.norm(dim=-1, keepdim=True)\n",
    "        print(text_features.shape)\n",
    "        embeddingmean=e(text_features.long()).cpu()[-1]\n",
    "        print(embeddingmean.shape)\n",
    "        outputs[j,:]=embeddingmean.float()\n",
    "    #outputs=torch.stack(outputs,dim=-1).numpy()\n",
    "    #outputs=np.linalg.norm(outputs, axis=-1)\n",
    "    #outputs /= outputs.norm(dim=-1, keepdim=True)\n",
    "    #print(outputs)\n",
    "    grads=torch.zeros(outputs.shape)\n",
    "    for i in range(outputs.shape[0]):\n",
    "        grads[i]=outputs[i]-outputs[i-1]\n",
    "    grads /=grads.norm(dim=-1,keepdim=True)\n",
    "                       #p=2)\n",
    "    similarity=(grads.cpu().numpy() @ grads.cpu().numpy().T)\n",
    "#     print(value)\n",
    "#     value2=grad1.cpu().numpy() @ grad2.cpu().numpy().T\n",
    "#     print(value2)\n",
    "#     value1=grad2.cpu().numpy() @ grad0.cpu().numpy().T\n",
    "#     print(value1)\n",
    "    #print(\"deviance of genders from linear space:{} {} {} {} {}\".format(sum(value1),sum(value),sum(value2),min(value), max(value)))\n",
    "    #print(value)"
   ]
  },
  {
   "cell_type": "code",
   "execution_count": 38,
   "metadata": {},
   "outputs": [
    {
     "data": {
      "text/plain": [
       "Text(0.5, 1.0, 'Cosine similarity between text and image features')"
      ]
     },
     "execution_count": 38,
     "metadata": {},
     "output_type": "execute_result"
    },
    {
     "data": {
      "image/png": "[encoded data removed]",
      "text/plain": [
       "<Figure size 1440x1008 with 1 Axes>"
      ]
     },
     "metadata": {},
     "output_type": "display_data"
    }
   ],
   "source": [
    "import matplotlib.pyplot as plt\n",
    "\n",
    "count =3\n",
    "\n",
    "plt.figure(figsize=(20, 14))\n",
    "plt.imshow(similarity, vmin=-1, vmax=2)\n",
    "# plt.colorbar()\n",
    "plt.yticks([])\n",
    "plt.xticks([])\n",
    "\n",
    "for x in range(similarity.shape[1]):\n",
    "    for y in range(similarity.shape[0]):\n",
    "        plt.text(x, y, f\"{similarity[y, x]:.2f}\", ha=\"center\", va=\"center\", size=12)\n",
    "\n",
    "for side in [\"left\", \"top\", \"right\", \"bottom\"]:\n",
    "  plt.gca().spines[side].set_visible(False)\n",
    "\n",
    "plt.xlim([-0.5, count - 0.5])\n",
    "plt.ylim([count + 0.5, -2])\n",
    "\n",
    "plt.title(\"Cosine similarity between text and image features\", size=20)"
   ]
  },
  {
   "cell_type": "code",
   "execution_count": null,
   "metadata": {},
   "outputs": [],
   "source": []
  },
  {
   "cell_type": "code",
   "execution_count": null,
   "metadata": {},
   "outputs": [],
   "source": []
  },
  {
   "cell_type": "code",
   "execution_count": null,
   "metadata": {},
   "outputs": [],
   "source": []
  }
 ],
 "metadata": {
  "kernelspec": {
   "display_name": "Python 3",
   "language": "python",
   "name": "python3"
  },
  "language_info": {
   "codemirror_mode": {
    "name": "ipython",
    "version": 3
   },
   "file_extension": ".py",
   "mimetype": "text/x-python",
   "name": "python",
   "nbconvert_exporter": "python",
   "pygments_lexer": "ipython3",
   "version": "3.7.7"
  }
 },
 "nbformat": 4,
 "nbformat_minor": 4
}
